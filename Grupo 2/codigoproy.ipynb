{
  "nbformat": 4,
  "nbformat_minor": 0,
  "metadata": {
    "colab": {
      "provenance": []
    },
    "kernelspec": {
      "name": "python3",
      "display_name": "Python 3"
    },
    "language_info": {
      "name": "python"
    }
  },
  "cells": [
    {
      "cell_type": "code",
      "source": [
        "!pip install pyjaspar\n",
        "from pyjaspar import jaspardb\n",
        "jdb_obj = jaspardb(release='JASPAR2024')\n",
        "ids = ['MA0265.1', 'MA0265.2', 'MA0265.3']\n",
        "motif = jdb_obj.fetch_motif_by_id(ids[0])"
      ],
      "metadata": {
        "colab": {
          "base_uri": "https://localhost:8080/"
        },
        "id": "rkhII3TtX59L",
        "outputId": "377d9cbb-2136-409c-d658-5d740b063aa7"
      },
      "execution_count": null,
      "outputs": [
        {
          "output_type": "stream",
          "name": "stdout",
          "text": [
            "Collecting pyjaspar\n",
            "  Downloading pyjaspar-3.0.0.tar.gz (51.0 MB)\n",
            "\u001b[2K     \u001b[91m━━━━━━━━━━━━━━━━━━━━━━━━━━━━━━━━━━━━━━━\u001b[0m\u001b[91m╸\u001b[0m \u001b[32m51.0/51.0 MB\u001b[0m \u001b[31m53.2 MB/s\u001b[0m eta \u001b[36m0:00:01\u001b[0m"
          ]
        }
      ]
    },
    {
      "cell_type": "code",
      "source": [
        "import numpy as np\n",
        "import requests\n",
        "import random\n",
        "\n",
        "# Función para descargar un PWM de JASPAR usando su API con el formato de URL especificado\n",
        "def get_pwm(jaspar_id):\n",
        "    url = f'https://jaspar.elixir.no/api/v1/matrix/{jaspar_id}/'\n",
        "    response = requests.get(url)\n",
        "    if response.status_code == 200:\n",
        "        pwm_data = response.json()['pfm']  # Extraer solo la matriz de frecuencias (pfm)\n",
        "        return pwm_data\n",
        "    else:\n",
        "        raise Exception(f\"No se pudo descargar el PWM de JASPAR para el ID {jaspar_id}\")\n",
        "for i in range(len(ids)):\n",
        "  print(get_pwm(ids[i]))"
      ],
      "metadata": {
        "id": "t9ud1gvGX7ZS"
      },
      "execution_count": null,
      "outputs": []
    },
    {
      "cell_type": "code",
      "source": [
        "motifJ = get_pwm(ids[0])\n",
        "t0 = [0.3, 0.2, 0.2, 0.3]"
      ],
      "metadata": {
        "id": "1zadXG-mX9yK"
      },
      "execution_count": null,
      "outputs": []
    },
    {
      "cell_type": "code",
      "source": [
        "motifJ\n",
        "w = len(motifJ['A'])\n",
        "\n",
        "Theta = np.zeros((w, 4))\n",
        "for k in range(w):\n",
        "  for nuc in motifJ:\n",
        "    if nuc == 'A':\n",
        "      Theta[k][0] = motifJ[nuc][k]\n",
        "    if nuc == 'C':\n",
        "      Theta[k][1] = motifJ[nuc][k]\n",
        "    if nuc == 'G':\n",
        "      Theta[k][2] = motifJ[nuc][k]\n",
        "    if nuc == 'T':\n",
        "      Theta[k][3] = motifJ[nuc][k]\n",
        "Theta = 0.01*Theta\n",
        "Theta"
      ],
      "metadata": {
        "id": "aod4Jek-X2la"
      },
      "execution_count": null,
      "outputs": []
    },
    {
      "cell_type": "code",
      "source": [
        "#Creador de secuencias de ADN: A secuencias de largo L\n",
        "def adninicial(A,L):\n",
        "    M = np.random.choice([\"A\", \"C\", \"G\", \"T\"], size=(A,L))\n",
        "    return M\n",
        "\n",
        "adninicial(10,20)"
      ],
      "metadata": {
        "id": "qPaTc7JkX0gB"
      },
      "execution_count": null,
      "outputs": []
    },
    {
      "cell_type": "code",
      "execution_count": null,
      "metadata": {
        "id": "2ikxT-LBXkWK"
      },
      "outputs": [],
      "source": [
        "import numpy as np\n",
        "import random\n",
        "\n",
        "# Cálculo de la energía basada en el logaritmo de la razón de probabilidades\n",
        "def calcular_energia_paper(S_i, a_i, Theta, theta_0, w):\n",
        "    \"\"\"\n",
        "    Calcula la energía de una subsecuencia según la fórmula del paper.\n",
        "\n",
        "    Args:\n",
        "    - S_i (str): Secuencia donde se evalúa el motivo.\n",
        "    - a_i (int): Posición inicial propuesta del motivo.\n",
        "    - Theta (np.array): Matriz del modelo de motivos (tamaño w x 4).\n",
        "    - theta_0 (list[float]): Modelo de fondo (probabilidades de A, C, G, T).\n",
        "    - w (int): Longitud del motivo.\n",
        "\n",
        "    Returns:\n",
        "    - float: Energía de la subsecuencia en la posición propuesta.\n",
        "    \"\"\"\n",
        "    K = \"ACGT\"\n",
        "    subseq = S_i[a_i:a_i + w]\n",
        "    energia = 0\n",
        "    for j, nucleotide in enumerate(subseq):\n",
        "        k = K.index(nucleotide)  # Índice del nucleótido\n",
        "        prob_motif = Theta[j][k]\n",
        "        prob_background = theta_0[k]\n",
        "        energia -= np.log(prob_motif + (1.25/4) / prob_background)  # Agregar log-ratio\n",
        "    return energia\n",
        "\n",
        "# Función principal de Metropolis-Hastings con aceptación/rechazo basado en alpha_H\n",
        "def metropolis_hastings_alpha_H(S, w, Theta, theta_0, n_iter):\n",
        "    \"\"\"\n",
        "    Algoritmo de Metropolis-Hastings con criterio de aceptación basado en alpha_H.\n",
        "\n",
        "    Args:\n",
        "    - S (list[str]): Lista de secuencias.\n",
        "    - w (int): Longitud del motivo.\n",
        "    - Theta (np.array): Modelo de probabilidades del motivo (tamaño w x 4).\n",
        "    - theta_0 (list[float]): Modelo de fondo (probabilidades de A, C, G, T).\n",
        "    - n_iter (int): Número de iteraciones.\n",
        "\n",
        "    Returns:\n",
        "    - list[int]: Posiciones finales de los motivos (A).\n",
        "    \"\"\"\n",
        "    N = len(S)\n",
        "    L = [len(s) for s in S]  # Longitudes de las secuencias\n",
        "    A = [random.randint(0, L[i] - w) for i in range(N)]  # Inicializar posiciones al azar\n",
        "\n",
        "    for iteration in range(n_iter):\n",
        "        # Elegir una secuencia al azar\n",
        "        i = random.randint(0, N - 1)\n",
        "        a_old = A[i]\n",
        "\n",
        "        # Proponer nueva posición a_i'\n",
        "        a_new = random.randint(0, L[i] - w)\n",
        "\n",
        "        # Calcular energías para la propuesta y el estado actual\n",
        "        E_old = calcular_energia_paper(S[i], a_old, Theta, theta_0, w)\n",
        "        E_new = calcular_energia_paper(S[i], a_new, Theta, theta_0, w)\n",
        "\n",
        "        # Calcular alpha_H (razón de aceptación)\n",
        "        alpha_H = min(1, np.exp(E_old - E_new))\n",
        "\n",
        "        # Aceptar o rechazar\n",
        "        if random.uniform(0, 1) < alpha_H:\n",
        "            A[i] = a_new  # Aceptar la nueva posición\n",
        "\n",
        "        # (Opcional) Imprimir estado en cada iteración\n",
        "        print(f\"Iteración {iteration + 1}: A = {A}, E_old = {E_old:.3f}, E_new = {E_new:.3f}, alpha_H = {alpha_H:.3f}\")\n",
        "\n",
        "    return A"
      ]
    },
    {
      "cell_type": "code",
      "source": [
        "S = adninicial(10,30)"
      ],
      "metadata": {
        "id": "DcFYhWCQXpCR"
      },
      "execution_count": null,
      "outputs": []
    },
    {
      "cell_type": "code",
      "source": [
        "theta_0 = [0.3, 0.2, 0.2, 0.3]\n",
        "\n",
        "n_iter = 10000  # Número de iteraciones\n",
        "\n",
        "# Ejecutar el algoritmo\n",
        "A_final = metropolis_hastings_alpha_H(S, w, Theta, t0, n_iter)\n",
        "\n",
        "# Mostrar resultados\n",
        "print(\"\\nPosiciones finales A:\", A_final)"
      ],
      "metadata": {
        "id": "7gNOts6iXs0M"
      },
      "execution_count": null,
      "outputs": []
    },
    {
      "cell_type": "code",
      "source": [],
      "metadata": {
        "id": "aE52dFM9X_mz"
      },
      "execution_count": null,
      "outputs": []
    }
  ]
}